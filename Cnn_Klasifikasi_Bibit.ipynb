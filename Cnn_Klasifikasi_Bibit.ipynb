{
  "nbformat": 4,
  "nbformat_minor": 0,
  "metadata": {
    "colab": {
      "name": "Cnn_Klasifikasi_Bibit.ipynb",
      "provenance": [],
      "collapsed_sections": [],
      "authorship_tag": "ABX9TyNBX8TIKiI/vO9OemFFXlJ7",
      "include_colab_link": true
    },
    "kernelspec": {
      "name": "python3",
      "display_name": "Python 3"
    },
    "accelerator": "GPU"
  },
  "cells": [
    {
      "cell_type": "markdown",
      "metadata": {
        "id": "view-in-github",
        "colab_type": "text"
      },
      "source": [
        "<a href=\"https://colab.research.google.com/github/arfandiTelU/Skripsi/blob/master/Cnn_Klasifikasi_Bibit.ipynb\" target=\"_parent\"><img src=\"https://colab.research.google.com/assets/colab-badge.svg\" alt=\"Open In Colab\"/></a>"
      ]
    },
    {
      "cell_type": "markdown",
      "metadata": {
        "id": "JpVdsiGka7_z",
        "colab_type": "text"
      },
      "source": [
        "Menghubungkan Dengan Google Drive"
      ]
    },
    {
      "cell_type": "code",
      "metadata": {
        "id": "-3uhj8rdsksB",
        "colab_type": "code",
        "outputId": "5901c613-2a3f-441b-c853-37dcd7ae1f22",
        "colab": {
          "base_uri": "https://localhost:8080/",
          "height": 34
        }
      },
      "source": [
        "from google.colab import drive\n",
        "drive.mount('/content/gdrive')"
      ],
      "execution_count": 64,
      "outputs": [
        {
          "output_type": "stream",
          "text": [
            "Drive already mounted at /content/gdrive; to attempt to forcibly remount, call drive.mount(\"/content/gdrive\", force_remount=True).\n"
          ],
          "name": "stdout"
        }
      ]
    },
    {
      "cell_type": "markdown",
      "metadata": {
        "id": "RXEptPMHU9E3",
        "colab_type": "text"
      },
      "source": [
        "Install Library"
      ]
    },
    {
      "cell_type": "code",
      "metadata": {
        "id": "ltIkFed7UwkC",
        "colab_type": "code",
        "outputId": "3fffc23a-1a6e-431f-b73d-5473e0f17875",
        "colab": {
          "base_uri": "https://localhost:8080/",
          "height": 71
        }
      },
      "source": [
        "!pip install -q keras\n",
        "!pip install opencv-contrib-python"
      ],
      "execution_count": 0,
      "outputs": [
        {
          "output_type": "stream",
          "text": [
            "Requirement already satisfied: opencv-contrib-python in /usr/local/lib/python3.6/dist-packages (4.1.2.30)\n",
            "Requirement already satisfied: numpy>=1.11.3 in /usr/local/lib/python3.6/dist-packages (from opencv-contrib-python) (1.18.3)\n"
          ],
          "name": "stdout"
        }
      ]
    },
    {
      "cell_type": "markdown",
      "metadata": {
        "id": "4Ja4HlmuUwJf",
        "colab_type": "text"
      },
      "source": [
        "Import Library"
      ]
    },
    {
      "cell_type": "code",
      "metadata": {
        "id": "n0PRBOuCVKEn",
        "colab_type": "code",
        "colab": {}
      },
      "source": [
        "from keras.preprocessing.image import ImageDataGenerator\n",
        "import pandas as pd\n",
        "from matplotlib import pyplot as plt\n",
        "from tensorflow.keras import models\n",
        "from tensorflow.keras import layers\n",
        "from tensorflow.keras import optimizers\n",
        "import tensorflow_hub as hub"
      ],
      "execution_count": 0,
      "outputs": []
    },
    {
      "cell_type": "markdown",
      "metadata": {
        "id": "ihsHavJBayoJ",
        "colab_type": "text"
      },
      "source": [
        "Mengambil, Memproses, Dan Membagi Data"
      ]
    },
    {
      "cell_type": "code",
      "metadata": {
        "id": "ji5i629-R4as",
        "colab_type": "code",
        "colab": {
          "base_uri": "https://localhost:8080/",
          "height": 51
        },
        "outputId": "f6fee22d-c1a4-4321-d8b7-8ec68fa82222"
      },
      "source": [
        "train_dir = '/content/gdrive/My Drive/Dataset/Train'\n",
        "test_dir = '/content/gdrive/My Drive/Dataset/Test'\n",
        "\n",
        "train_datagen = ImageDataGenerator(rescale=1./255, validation_split=.12)\n",
        "valid_datagen = ImageDataGenerator(rescale=1./255, validation_split=.12)\n",
        "test_datagen = ImageDataGenerator(rescale=1./255)\n",
        "\n",
        "IMAGE_SHAPE = (224,224)\n",
        "\n",
        "train_generator = train_datagen.flow_from_directory(\n",
        "    train_dir,\n",
        "    subset = \"training\",\n",
        "    shuffle = True,\n",
        "    target_size = IMAGE_SHAPE,\n",
        "    batch_size = 20\n",
        ")\n",
        "\n",
        "valid_generator = valid_datagen.flow_from_directory(\n",
        "    train_dir,\n",
        "    subset = \"validation\",\n",
        "    shuffle = True,\n",
        "    target_size = IMAGE_SHAPE,\n",
        "    batch_size = 20\n",
        ")"
      ],
      "execution_count": 66,
      "outputs": [
        {
          "output_type": "stream",
          "text": [
            "Found 510 images belonging to 5 classes.\n",
            "Found 65 images belonging to 5 classes.\n"
          ],
          "name": "stdout"
        }
      ]
    },
    {
      "cell_type": "markdown",
      "metadata": {
        "id": "__XT-M5Yp0_F",
        "colab_type": "text"
      },
      "source": [
        ""
      ]
    },
    {
      "cell_type": "code",
      "metadata": {
        "id": "za11SW9Cp1Xy",
        "colab_type": "code",
        "colab": {
          "base_uri": "https://localhost:8080/",
          "height": 34
        },
        "outputId": "2c54aa87-18b3-440d-ac07-c28ce6e630bc"
      },
      "source": [
        "dataset_labels = sorted(train_generator.class_indices.items(), key=lambda pair:pair[1])\n",
        "dataset_labels = np.array([key.title() for key, value in dataset_labels])\n",
        "print(dataset_labels)"
      ],
      "execution_count": 114,
      "outputs": [
        {
          "output_type": "stream",
          "text": [
            "['Cabai' 'Pakcoy' 'Sawi' 'Terong' 'Tomat']\n"
          ],
          "name": "stdout"
        }
      ]
    },
    {
      "cell_type": "markdown",
      "metadata": {
        "id": "5RZq9_Wdvutf",
        "colab_type": "text"
      },
      "source": [
        "Membangun Arsitektur Model"
      ]
    },
    {
      "cell_type": "code",
      "metadata": {
        "id": "gvuiJBqMvvMO",
        "colab_type": "code",
        "colab": {
          "base_uri": "https://localhost:8080/",
          "height": 255
        },
        "outputId": "a8ab0dd6-dad0-4567-f221-4d6b0d62999e"
      },
      "source": [
        "# model = models.Sequential()\n",
        "\n",
        "# model.add(layers.Conv2D(32, (3,3), activation = 'relu', input_shape = (512,512,3)))\n",
        "# model.add(layers.MaxPool2D((2,2)))\n",
        "\n",
        "# model.add(layers.Conv2D(64, (3,3), activation = 'relu'))\n",
        "# model.add(layers.MaxPool2D((2,2)))\n",
        "\n",
        "# model.add(layers.Conv2D(128, (3,3), activation = 'relu'))\n",
        "# model.add(layers.MaxPool2D((2,2)))\n",
        "\n",
        "# model.add(layers.Conv2D(128, (3,3), activation = 'relu'))\n",
        "# model.add(layers.MaxPool2D((2,2)))\n",
        "\n",
        "# model.add(layers.Flatten())\n",
        "\n",
        "# model.add(layers.Dropout(0.5))\n",
        "\n",
        "# model.add(layers.Dense(512, activation = 'relu'))\n",
        "\n",
        "# model.add(layers.Dense(5, activation = 'softmax'))\n",
        "\n",
        "model = models.Sequential([\n",
        "  hub.KerasLayer(\"https://tfhub.dev/google/tf2-preview/mobilenet_v2/feature_vector/4\", \n",
        "                 output_shape=[1280],\n",
        "                 trainable=False),\n",
        "  layers.Dropout(0.4),\n",
        "  layers.Dense(train_generator.num_classes, activation='softmax')\n",
        "])\n",
        "model.build([None, 224, 224, 3])\n",
        "\n",
        "model.summary()"
      ],
      "execution_count": 67,
      "outputs": [
        {
          "output_type": "stream",
          "text": [
            "Model: \"sequential_18\"\n",
            "_________________________________________________________________\n",
            "Layer (type)                 Output Shape              Param #   \n",
            "=================================================================\n",
            "keras_layer_4 (KerasLayer)   multiple                  2257984   \n",
            "_________________________________________________________________\n",
            "dropout_15 (Dropout)         multiple                  0         \n",
            "_________________________________________________________________\n",
            "dense_33 (Dense)             multiple                  6405      \n",
            "=================================================================\n",
            "Total params: 2,264,389\n",
            "Trainable params: 6,405\n",
            "Non-trainable params: 2,257,984\n",
            "_________________________________________________________________\n"
          ],
          "name": "stdout"
        }
      ]
    },
    {
      "cell_type": "markdown",
      "metadata": {
        "id": "Ms3koGoK2gya",
        "colab_type": "text"
      },
      "source": [
        ""
      ]
    },
    {
      "cell_type": "code",
      "metadata": {
        "id": "eU6cDWbL2hOF",
        "colab_type": "code",
        "colab": {}
      },
      "source": [
        "model.compile(\n",
        "  # optimizer=optimizers.RMSprop(lr=1e-4),\n",
        "  optimizer=optimizers.Adam(),\n",
        "  loss='categorical_crossentropy',\n",
        "  metrics=['acc'])"
      ],
      "execution_count": 0,
      "outputs": []
    },
    {
      "cell_type": "markdown",
      "metadata": {
        "id": "lKXsp2lG27bI",
        "colab_type": "text"
      },
      "source": [
        ""
      ]
    },
    {
      "cell_type": "code",
      "metadata": {
        "id": "-aaT15jh277W",
        "colab_type": "code",
        "colab": {
          "base_uri": "https://localhost:8080/",
          "height": 697
        },
        "outputId": "fe41bd4f-3f46-461a-e701-1d0c9f58347a"
      },
      "source": [
        "history = model.fit(\n",
        "    train_generator, \n",
        "    epochs = 20,\n",
        "    steps_per_epoch = 26,\n",
        "    validation_data=valid_generator,\n",
        "    validation_steps = 4)"
      ],
      "execution_count": 72,
      "outputs": [
        {
          "output_type": "stream",
          "text": [
            "Epoch 1/20\n",
            "26/26 [==============================] - 16s 605ms/step - loss: 0.9154 - acc: 0.6431 - val_loss: 0.6716 - val_acc: 0.7846\n",
            "Epoch 2/20\n",
            "26/26 [==============================] - 16s 603ms/step - loss: 0.7530 - acc: 0.7078 - val_loss: 0.5267 - val_acc: 0.8462\n",
            "Epoch 3/20\n",
            "26/26 [==============================] - 16s 600ms/step - loss: 0.5718 - acc: 0.7961 - val_loss: 0.5472 - val_acc: 0.8308\n",
            "Epoch 4/20\n",
            "26/26 [==============================] - 15s 589ms/step - loss: 0.5125 - acc: 0.8078 - val_loss: 0.5345 - val_acc: 0.8000\n",
            "Epoch 5/20\n",
            "26/26 [==============================] - 15s 596ms/step - loss: 0.4765 - acc: 0.8333 - val_loss: 0.4843 - val_acc: 0.8308\n",
            "Epoch 6/20\n",
            "26/26 [==============================] - 16s 619ms/step - loss: 0.4573 - acc: 0.8294 - val_loss: 0.4927 - val_acc: 0.8154\n",
            "Epoch 7/20\n",
            "26/26 [==============================] - 16s 632ms/step - loss: 0.3782 - acc: 0.8667 - val_loss: 0.5172 - val_acc: 0.7846\n",
            "Epoch 8/20\n",
            "26/26 [==============================] - 16s 608ms/step - loss: 0.3856 - acc: 0.8549 - val_loss: 0.4483 - val_acc: 0.8462\n",
            "Epoch 9/20\n",
            "26/26 [==============================] - 16s 612ms/step - loss: 0.3298 - acc: 0.8745 - val_loss: 0.4476 - val_acc: 0.8308\n",
            "Epoch 10/20\n",
            "26/26 [==============================] - 16s 597ms/step - loss: 0.2893 - acc: 0.9078 - val_loss: 0.4803 - val_acc: 0.8154\n",
            "Epoch 11/20\n",
            "26/26 [==============================] - 16s 605ms/step - loss: 0.2883 - acc: 0.9118 - val_loss: 0.3103 - val_acc: 0.8923\n",
            "Epoch 12/20\n",
            "26/26 [==============================] - 16s 597ms/step - loss: 0.2893 - acc: 0.9020 - val_loss: 0.4178 - val_acc: 0.8308\n",
            "Epoch 13/20\n",
            "26/26 [==============================] - 16s 612ms/step - loss: 0.2542 - acc: 0.9118 - val_loss: 0.4314 - val_acc: 0.8000\n",
            "Epoch 14/20\n",
            "26/26 [==============================] - 16s 609ms/step - loss: 0.2407 - acc: 0.9333 - val_loss: 0.2867 - val_acc: 0.8462\n",
            "Epoch 15/20\n",
            "26/26 [==============================] - 16s 610ms/step - loss: 0.2420 - acc: 0.9216 - val_loss: 0.4797 - val_acc: 0.8154\n",
            "Epoch 16/20\n",
            "26/26 [==============================] - 16s 598ms/step - loss: 0.2153 - acc: 0.9373 - val_loss: 0.3733 - val_acc: 0.8615\n",
            "Epoch 17/20\n",
            "26/26 [==============================] - 16s 618ms/step - loss: 0.2424 - acc: 0.9235 - val_loss: 0.3769 - val_acc: 0.8462\n",
            "Epoch 18/20\n",
            "26/26 [==============================] - 16s 611ms/step - loss: 0.2082 - acc: 0.9333 - val_loss: 0.3897 - val_acc: 0.8154\n",
            "Epoch 19/20\n",
            "26/26 [==============================] - 16s 624ms/step - loss: 0.1983 - acc: 0.9510 - val_loss: 0.3928 - val_acc: 0.8615\n",
            "Epoch 20/20\n",
            "26/26 [==============================] - 15s 593ms/step - loss: 0.1753 - acc: 0.9510 - val_loss: 0.4279 - val_acc: 0.8462\n"
          ],
          "name": "stdout"
        }
      ]
    },
    {
      "cell_type": "markdown",
      "metadata": {
        "id": "zr-5fDfN9gis",
        "colab_type": "text"
      },
      "source": [
        ""
      ]
    },
    {
      "cell_type": "code",
      "metadata": {
        "id": "q1jTosvj9hAL",
        "colab_type": "code",
        "colab": {
          "base_uri": "https://localhost:8080/",
          "height": 324
        },
        "outputId": "057fc9b1-1115-4c8e-acfe-b7ed47197553"
      },
      "source": [
        "pd.DataFrame(history.history).plot(figsize=(8,5))\n",
        "plt.grid(True)\n",
        "plt.gca().set_ylim(0,1)\n",
        "plt.show()"
      ],
      "execution_count": 73,
      "outputs": [
        {
          "output_type": "display_data",
          "data": {
            "image/png": "[encoded data removed]",
            "text/plain": [
              "<Figure size 576x360 with 1 Axes>"
            ]
          },
          "metadata": {
            "tags": [],
            "needs_background": "light"
          }
        }
      ]
    },
    {
      "cell_type": "markdown",
      "metadata": {
        "id": "Ac0Jt7VOZGiZ",
        "colab_type": "text"
      },
      "source": [
        ""
      ]
    },
    {
      "cell_type": "code",
      "metadata": {
        "id": "yoNVxexTZHDG",
        "colab_type": "code",
        "colab": {
          "base_uri": "https://localhost:8080/",
          "height": 51
        },
        "outputId": "b18579f9-2e04-401b-dd5c-70bab51785e3"
      },
      "source": [
        "test_generator = test_datagen.flow_from_directory(\n",
        "    test_dir,\n",
        "    target_size = IMAGE_SHAPE,\n",
        "    batch_size = 20\n",
        ")\n",
        "\n",
        "evaluate = model.evaluate(test_generator, steps = 4)\n",
        "\n",
        "predict = model"
      ],
      "execution_count": 132,
      "outputs": [
        {
          "output_type": "stream",
          "text": [
            "Found 65 images belonging to 5 classes.\n",
            "4/4 [==============================] - 1s 283ms/step - loss: 0.5363 - acc: 0.8308\n"
          ],
          "name": "stdout"
        }
      ]
    },
    {
      "cell_type": "code",
      "metadata": {
        "id": "vQTiku3jeE1J",
        "colab_type": "code",
        "colab": {
          "base_uri": "https://localhost:8080/",
          "height": 34
        },
        "outputId": "6a7e3d0c-c227-47e5-be4b-9bcd071035e7"
      },
      "source": [
        "print(evaluate)\n",
        "# test_image_batch, test_label_batch = next(iter(test_generator))\n",
        "# true_label_ids = np.argmax(test_label_batch, axis=-1)\n",
        "# print(true_label_ids)\n",
        "# plt.figure(figsize=(10,9))\n",
        "# plt.subplots_adjust(hspace=0.5)\n",
        "# for n in range(3):\n",
        "#   plt.subplot(6,5,n+1)\n",
        "#   plt.imshow(val_image_batch[n])\n",
        "#   color = \"green\" if predicted_ids[n] == true_label_ids[n] else \"red\"\n",
        "#   plt.title(predicted_labels[n].title(), color=color)\n",
        "#   plt.axis('off')\n",
        "# _ = plt.suptitle(\"Model predictions (green: correct, red: incorrect)\")"
      ],
      "execution_count": 139,
      "outputs": [
        {
          "output_type": "stream",
          "text": [
            "[0.5363028645515442, 0.8307692408561707]\n"
          ],
          "name": "stdout"
        }
      ]
    }
  ]
}